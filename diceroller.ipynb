{
  "nbformat": 4,
  "nbformat_minor": 0,
  "metadata": {
    "colab": {
      "provenance": [],
      "authorship_tag": "ABX9TyNcetdP3oKXrgKRa22i6Ris",
      "include_colab_link": true
    },
    "kernelspec": {
      "name": "python3",
      "display_name": "Python 3"
    },
    "language_info": {
      "name": "python"
    }
  },
  "cells": [
    {
      "cell_type": "markdown",
      "metadata": {
        "id": "view-in-github",
        "colab_type": "text"
      },
      "source": [
        "<a href=\"https://colab.research.google.com/github/Poorvipm/Test2Session1/blob/main/diceroller.ipynb\" target=\"_parent\"><img src=\"https://colab.research.google.com/assets/colab-badge.svg\" alt=\"Open In Colab\"/></a>"
      ]
    },
    {
      "cell_type": "code",
      "source": [],
      "metadata": {
        "id": "WGZCb1S3E602"
      },
      "execution_count": null,
      "outputs": []
    },
    {
      "cell_type": "code",
      "execution_count": 10,
      "metadata": {
        "colab": {
          "base_uri": "https://localhost:8080/"
        },
        "id": "1TL4u6zo_012",
        "outputId": "f383b21f-2207-4e0b-93b7-208c6172d9ba"
      },
      "outputs": [
        {
          "name": "stdout",
          "output_type": "stream",
          "text": [
            "| 0   |\n",
            "|     |\n",
            "|   0 |\n",
            "press roll to roll again and any key to exit:roll\n",
            "|     |\n",
            "|  0  |\n",
            "|     |\n",
            "press roll to roll again and any key to exit:roll\n",
            "|0 0 0|\n",
            "|     |\n",
            "|0 0 0|\n",
            "press roll to roll again and any key to exit:roll\n",
            "|0 0 0|\n",
            "|     |\n",
            "|0 0 0|\n",
            "press roll to roll again and any key to exit:k\n"
          ]
        }
      ],
      "source": [
        "import random\n",
        "\n",
        "\n",
        "\n",
        "p = \"roll\"\n",
        "\n",
        "\n",
        "\n",
        "while p == \"roll\":\n",
        "\n",
        "\n",
        "\n",
        "\n",
        "\n",
        "    num = random.randint(1,6)\n",
        "\n",
        "\n",
        "\n",
        "    if num == 1:\n",
        "\n",
        "\n",
        "\n",
        "        print(\"|     |\")\n",
        "\n",
        "        print(\"|  0  |\")\n",
        "\n",
        "        print(\"|     |\")\n",
        "\n",
        "\n",
        "\n",
        "    if num == 2:\n",
        "\n",
        "\n",
        "        print(\"| 0   |\")\n",
        "\n",
        "        print(\"|     |\")\n",
        "\n",
        "        print(\"|   0 |\")\n",
        "\n",
        "\n",
        "    if num == 3:\n",
        "\n",
        "\n",
        "\n",
        "        print(\"|     |\")\n",
        "\n",
        "        print(\"|0 0 0|\")\n",
        "\n",
        "        print(\"|     |\")\n",
        "\n",
        "\n",
        "\n",
        "    if num == 4:\n",
        "\n",
        "\n",
        "\n",
        "        print(\"|0   0|\")\n",
        "\n",
        "        print(\"|     |\")\n",
        "\n",
        "        print(\"|0   0|\")\n",
        "\n",
        "\n",
        "\n",
        "    if num == 5:\n",
        "\n",
        "\n",
        "        print(\"|0   0|\")\n",
        "\n",
        "        print(\"|  0  |\")\n",
        "\n",
        "        print(\"|0   0|\")\n",
        "\n",
        "\n",
        "\n",
        "    if num == 6:\n",
        "\n",
        "\n",
        "\n",
        "        print(\"|0 0 0|\")\n",
        "\n",
        "        print(\"|     |\")\n",
        "\n",
        "        print(\"|0 0 0|\")\n",
        "\n",
        "\n",
        "\n",
        "\n",
        "    p=input(\"press roll to roll again and any key to exit:\")"
      ]
    },
    {
      "cell_type": "code",
      "source": [],
      "metadata": {
        "id": "fDtEy0PNBjIU"
      },
      "execution_count": null,
      "outputs": []
    }
  ]
}